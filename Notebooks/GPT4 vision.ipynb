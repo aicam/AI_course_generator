{
 "cells": [
  {
   "cell_type": "code",
   "execution_count": 1,
   "id": "a0c2f40b-b79e-45f5-b788-d2e463bf19dc",
   "metadata": {},
   "outputs": [],
   "source": [
    "import os\n",
    "openai_api_key = os.environ['OPENAI_API_KEY']"
   ]
  },
  {
   "cell_type": "code",
   "execution_count": 8,
   "id": "8bff69e7-3752-4f5c-bca0-2b1bf34b7c20",
   "metadata": {},
   "outputs": [],
   "source": [
    "content = [{\n",
    "    \"type\": \"image_url\",\n",
    "    \"image_url\": {\n",
    "        \"url\": f\"https://investai-data.s3.us-west-1.amazonaws.com/ai_course/page-{i}.jpg\"\n",
    "    }\n",
    "} for i in range(22)]"
   ]
  },
  {
   "cell_type": "code",
   "execution_count": 9,
   "id": "4d149789-0b8b-46d5-8bd2-d7bac5c3fd12",
   "metadata": {},
   "outputs": [],
   "source": [
    "content.append({\"type\": \"text\", \"text\": \"Write a summary less than 100 words about the context.\"})"
   ]
  },
  {
   "cell_type": "code",
   "execution_count": 12,
   "id": "dae17f61-c699-4aff-84a2-00cb20bc178d",
   "metadata": {},
   "outputs": [
    {
     "name": "stdout",
     "output_type": "stream",
     "text": [
      "Choice(finish_reason='stop', index=0, logprobs=None, message=ChatCompletionMessage(content='This document is an educational resource on accounting principles and internal controls. It covers the distinction between bookkeeping and accounting, basic accounting terms, the double-entry system, financial statements, the accounting equation, and GAAP standards. It also outlines the components and principles of effective internal control based on the COSO framework, highlighting the importance of these controls in accurate financial reporting and compliance. The text serves as an introductory guide for understanding the fundamental aspects and processes of accounting.', role='assistant', function_call=None, tool_calls=None))\n"
     ]
    }
   ],
   "source": [
    "from openai import OpenAI\n",
    "\n",
    "client = OpenAI(\n",
    "    api_key = openai_api_key\n",
    ")\n",
    "\n",
    "response = client.chat.completions.create(\n",
    "  model=\"gpt-4-vision-preview\",\n",
    "  messages=[\n",
    "    {\n",
    "      \"role\": \"user\",\n",
    "      \"content\": content,\n",
    "    }\n",
    "  ],\n",
    "  max_tokens=300,\n",
    ")\n",
    "\n",
    "print(response.choices[0])"
   ]
  },
  {
   "cell_type": "code",
   "execution_count": 13,
   "id": "79ff5ba2-2b13-42de-aa7c-794ed3dc5f29",
   "metadata": {},
   "outputs": [
    {
     "data": {
      "text/plain": [
       "'This document is an educational resource on accounting principles and internal controls. It covers the distinction between bookkeeping and accounting, basic accounting terms, the double-entry system, financial statements, the accounting equation, and GAAP standards. It also outlines the components and principles of effective internal control based on the COSO framework, highlighting the importance of these controls in accurate financial reporting and compliance. The text serves as an introductory guide for understanding the fundamental aspects and processes of accounting.'"
      ]
     },
     "execution_count": 13,
     "metadata": {},
     "output_type": "execute_result"
    }
   ],
   "source": [
    "response.choices[0].message.content"
   ]
  }
 ],
 "metadata": {
  "kernelspec": {
   "display_name": "ai_course_generator",
   "language": "python",
   "name": "ai_course_generator"
  },
  "language_info": {
   "codemirror_mode": {
    "name": "ipython",
    "version": 3
   },
   "file_extension": ".py",
   "mimetype": "text/x-python",
   "name": "python",
   "nbconvert_exporter": "python",
   "pygments_lexer": "ipython3",
   "version": "3.11.7"
  }
 },
 "nbformat": 4,
 "nbformat_minor": 5
}
