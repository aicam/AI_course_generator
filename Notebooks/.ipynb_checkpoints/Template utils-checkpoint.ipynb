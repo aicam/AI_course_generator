{
 "cells": [
  {
   "cell_type": "code",
   "execution_count": 1,
   "id": "053b2fec-58dc-4094-b112-eaaa1dfa1dc2",
   "metadata": {},
   "outputs": [
    {
     "name": "stderr",
     "output_type": "stream",
     "text": [
      "/home/ali/PycharmProjects/investai_wrapper/venv/lib/python3.11/site-packages/tqdm/auto.py:21: TqdmWarning: IProgress not found. Please update jupyter and ipywidgets. See https://ipywidgets.readthedocs.io/en/stable/user_install.html\n",
      "  from .autonotebook import tqdm as notebook_tqdm\n",
      "/home/ali/PycharmProjects/investai_wrapper/venv/lib/python3.11/site-packages/torch/cuda/__init__.py:138: UserWarning: CUDA initialization: The NVIDIA driver on your system is too old (found version 11040). Please update your GPU driver by downloading and installing a new version from the URL: http://www.nvidia.com/Download/index.aspx Alternatively, go to: https://pytorch.org to install a PyTorch version that has been compiled with your version of the CUDA driver. (Triggered internally at ../c10/cuda/CUDAFunctions.cpp:108.)\n",
      "  return torch._C._cuda_getDeviceCount() > 0\n",
      "/home/ali/PycharmProjects/investai_wrapper/venv/lib/python3.11/site-packages/torch/cuda/__init__.py:611: UserWarning: Can't initialize NVML\n",
      "  warnings.warn(\"Can't initialize NVML\")\n"
     ]
    }
   ],
   "source": [
    "from haystack.utils import convert_files_to_docs\n",
    "from haystack.nodes import PreProcessor\n",
    "from haystack.document_stores import OpenSearchDocumentStore\n",
    "from haystack.nodes import EmbeddingRetriever, PromptNode, PromptTemplate, AnswerParser"
   ]
  },
  {
   "cell_type": "code",
   "execution_count": null,
   "id": "1d1b3e96-a666-4c35-8549-64e7a5f0820d",
   "metadata": {},
   "outputs": [],
   "source": [
    "MDDEL = \"gpt-4-1106-preview\"\n",
    "def get_prompt_node(self):\n",
    "    return PromptNode(MDDEL, api_key=os.env['OPENAI_API_KEY'])"
   ]
  },
  {
   "cell_type": "code",
   "execution_count": null,
   "id": "91d7ddee-7236-4dea-80a4-9ba795c5a896",
   "metadata": {},
   "outputs": [],
   "source": []
  }
 ],
 "metadata": {
  "kernelspec": {
   "display_name": "investai",
   "language": "python",
   "name": "investai"
  },
  "language_info": {
   "codemirror_mode": {
    "name": "ipython",
    "version": 3
   },
   "file_extension": ".py",
   "mimetype": "text/x-python",
   "name": "python",
   "nbconvert_exporter": "python",
   "pygments_lexer": "ipython3",
   "version": "3.11.7"
  }
 },
 "nbformat": 4,
 "nbformat_minor": 5
}
