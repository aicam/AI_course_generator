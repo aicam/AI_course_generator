{
 "cells": [
  {
   "cell_type": "code",
   "execution_count": 3,
   "id": "a0c2f40b-b79e-45f5-b788-d2e463bf19dc",
   "metadata": {},
   "outputs": [],
   "source": [
    "import os\n",
    "openai_api_key = os.environ['OPENAI_API_KEY']"
   ]
  },
  {
   "cell_type": "code",
   "execution_count": null,
   "id": "dae17f61-c699-4aff-84a2-00cb20bc178d",
   "metadata": {},
   "outputs": [],
   "source": [
    "from openai import OpenAI\n",
    "\n",
    "client = OpenAI(\n",
    "    api_key = openai_api_key\n",
    ")\n",
    "\n",
    "response = client.chat.completions.create(\n",
    "  model=\"gpt-4-vision-preview\",\n",
    "  messages=[\n",
    "    {\n",
    "      \"role\": \"user\",\n",
    "      \"content\": [\n",
    "        {\"type\": \"text\", \"text\": \"Write all the words in picture of T-accounts\"},\n",
    "        {\n",
    "          \"type\": \"image_url\",\n",
    "          \"image_url\": {\n",
    "            \"url\": \"https://investai-data.s3.us-west-1.amazonaws.com/ai_course/a9w5cz3XqV_page-0003.jpg\",\n",
    "          },\n",
    "        },\n",
    "      ],\n",
    "    }\n",
    "  ],\n",
    "  max_tokens=300,\n",
    ")\n",
    "\n",
    "print(response.choices[0])"
   ]
  },
  {
   "cell_type": "code",
   "execution_count": 6,
   "id": "79ff5ba2-2b13-42de-aa7c-794ed3dc5f29",
   "metadata": {},
   "outputs": [
    {
     "data": {
      "text/plain": [
       "\"The picture of T-accounts explains the basic principle of double-entry bookkeeping in accounting. Each T-account represents a different account found in a company's ledger and the way end balances in these accounts are affected by debits and credits.\\n\\nA T-account consists of the following elements:\\n- The account title at the top\\n- A left side (debit side)\\n- A right side (credit side)\\n\\nThe T-accounts in the image illustrate the relationship between the element accounts of the financial statements (assets, liabilities, owner's equity, revenues, and expenses) and the effects of debits and credits on those accounts. Here is a summary:\\n\\n- Assets: Debits increase account balances and credits decrease account balances.\\n- Liabilities: Debits decrease account balances and credits increase account balances.\\n- Owner's Equity: Debits decrease account balances and credits increase account balances.\\n- Revenue: Debits decrease account balances and credits increase account balances.\\n- Expenses: Debits increase account balances and credits decrease account balances.\\n\\nIn the accounting equation, Assets = Liabilities + Owner's Equity (also represented as Capital in the image), the illustration demonstrates that debits and credits work in opposition for different types of accounts to maintain this balance.\\n\\nBelow the T-accounts, there is also a table that summarizes this information in a more straightforward way, pairing the financial category with the corresponding debit and credit effect.\\n\\nAdditionally, the document provides a brief explanation of Cash Basis Accounting and Accrual Accounting, which are two fundamental\""
      ]
     },
     "execution_count": 6,
     "metadata": {},
     "output_type": "execute_result"
    }
   ],
   "source": [
    "response.choices[0].message.content"
   ]
  }
 ],
 "metadata": {
  "kernelspec": {
   "display_name": "ai_course_generator",
   "language": "python",
   "name": "ai_course_generator"
  },
  "language_info": {
   "codemirror_mode": {
    "name": "ipython",
    "version": 3
   },
   "file_extension": ".py",
   "mimetype": "text/x-python",
   "name": "python",
   "nbconvert_exporter": "python",
   "pygments_lexer": "ipython3",
   "version": "3.11.7"
  }
 },
 "nbformat": 4,
 "nbformat_minor": 5
}
