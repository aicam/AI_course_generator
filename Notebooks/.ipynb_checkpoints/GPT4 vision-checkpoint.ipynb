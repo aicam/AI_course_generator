{
 "cells": [
  {
   "cell_type": "code",
   "execution_count": 1,
   "id": "a0c2f40b-b79e-45f5-b788-d2e463bf19dc",
   "metadata": {},
   "outputs": [],
   "source": [
    "import os\n",
    "openai_api_key = os.environ['OPENAI_API_KEY']"
   ]
  },
  {
   "cell_type": "code",
   "execution_count": 8,
   "id": "8bff69e7-3752-4f5c-bca0-2b1bf34b7c20",
   "metadata": {},
   "outputs": [],
   "source": [
    "content = [{\n",
    "    \"type\": \"image_url\",\n",
    "    \"image_url\": {\n",
    "        \"url\": f\"https://investai-data.s3.us-west-1.amazonaws.com/ai_course/page-{i}.jpg\"\n",
    "    }\n",
    "} for i in range(22)]"
   ]
  },
  {
   "cell_type": "code",
   "execution_count": 9,
   "id": "4d149789-0b8b-46d5-8bd2-d7bac5c3fd12",
   "metadata": {},
   "outputs": [],
   "source": [
    "content.append({\"type\": \"text\", \"text\": \"Write a summary less than 100 words about the context.\"})"
   ]
  },
  {
   "cell_type": "code",
   "execution_count": 7,
   "id": "dae17f61-c699-4aff-84a2-00cb20bc178d",
   "metadata": {},
   "outputs": [
    {
     "name": "stdout",
     "output_type": "stream",
     "text": [
      "Choice(finish_reason='length', index=0, logprobs=None, message=ChatCompletionMessage(content=\"The text in the picture reads as follows:\\n\\n---\\n\\nT-Accounts\\n\\nAssets = Liabilities + Owners'\\nEquity\\n\\nor or or\\n\\nCapital Paid in Retained\\nor Earnings\\n\\nDr Cr Dr Cr Dr Cr\\n\\nRevenues Expenses\\nor or\\n\\nDr Cr Dr Cr\\n\\nDividends\\nor\\n\\nDr Cr\\n\\nSometimes, the simple explanation of debits fall on the left-hand side of the T and credits fall on the\\nright-hand side of the T does not provide the professional a proper understanding of the impact of debits\\nand credits. A more appropriate definition is to relate the terms to the various accounts within the\\nfinancial statements and correlate how they impact whether there is an increase in the account or a\\ndecrease in the account. The following table summarizes how debits and credits impact the\\ncategories of the financial statements.\\n\\nFinancial Category | Debit | Credit\\n----------------------------------------\\nAssets | Increase account balances | Decrease account balances\\nLiabilities | Decrease account balances | Increase account balances\\nEquity | Decrease account balances | Increase account balances\\nRevenue | Decrease account balances | Increase account balances\\nExpenses | Increases account balances | Decrease account balances\\n\\nCash Basis Accounting - The cash method of accounting (also known as cash-basis accounting) records\\nrevenue when cash is received, and expenses when they are paid in cash.\\n\\nAccrual Accounting – In the accrual system, every financial transaction results in both a debit entry in \\none account\", role='assistant', function_call=None, tool_calls=None))\n"
     ]
    }
   ],
   "source": [
    "from openai import OpenAI\n",
    "\n",
    "client = OpenAI(\n",
    "    api_key = openai_api_key\n",
    ")\n",
    "\n",
    "response = client.chat.completions.create(\n",
    "  model=\"gpt-4-vision-preview\",\n",
    "  messages=[\n",
    "    {\n",
    "      \"role\": \"user\",\n",
    "      \"content\": content,\n",
    "    }\n",
    "  ],\n",
    "  max_tokens=300,\n",
    ")\n",
    "\n",
    "print(response.choices[0])"
   ]
  },
  {
   "cell_type": "code",
   "execution_count": 8,
   "id": "79ff5ba2-2b13-42de-aa7c-794ed3dc5f29",
   "metadata": {},
   "outputs": [
    {
     "data": {
      "text/plain": [
       "\"The text in the picture reads as follows:\\n\\n---\\n\\nT-Accounts\\n\\nAssets = Liabilities + Owners'\\nEquity\\n\\nor or or\\n\\nCapital Paid in Retained\\nor Earnings\\n\\nDr Cr Dr Cr Dr Cr\\n\\nRevenues Expenses\\nor or\\n\\nDr Cr Dr Cr\\n\\nDividends\\nor\\n\\nDr Cr\\n\\nSometimes, the simple explanation of debits fall on the left-hand side of the T and credits fall on the\\nright-hand side of the T does not provide the professional a proper understanding of the impact of debits\\nand credits. A more appropriate definition is to relate the terms to the various accounts within the\\nfinancial statements and correlate how they impact whether there is an increase in the account or a\\ndecrease in the account. The following table summarizes how debits and credits impact the\\ncategories of the financial statements.\\n\\nFinancial Category | Debit | Credit\\n----------------------------------------\\nAssets | Increase account balances | Decrease account balances\\nLiabilities | Decrease account balances | Increase account balances\\nEquity | Decrease account balances | Increase account balances\\nRevenue | Decrease account balances | Increase account balances\\nExpenses | Increases account balances | Decrease account balances\\n\\nCash Basis Accounting - The cash method of accounting (also known as cash-basis accounting) records\\nrevenue when cash is received, and expenses when they are paid in cash.\\n\\nAccrual Accounting – In the accrual system, every financial transaction results in both a debit entry in \\none account\""
      ]
     },
     "execution_count": 8,
     "metadata": {},
     "output_type": "execute_result"
    }
   ],
   "source": [
    "response.choices[0].message.content"
   ]
  }
 ],
 "metadata": {
  "kernelspec": {
   "display_name": "ai_course_generator",
   "language": "python",
   "name": "ai_course_generator"
  },
  "language_info": {
   "codemirror_mode": {
    "name": "ipython",
    "version": 3
   },
   "file_extension": ".py",
   "mimetype": "text/x-python",
   "name": "python",
   "nbconvert_exporter": "python",
   "pygments_lexer": "ipython3",
   "version": "3.11.7"
  }
 },
 "nbformat": 4,
 "nbformat_minor": 5
}
