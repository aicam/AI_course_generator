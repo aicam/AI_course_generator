{
 "cells": [
  {
   "cell_type": "code",
   "execution_count": 5,
   "id": "053b2fec-58dc-4094-b112-eaaa1dfa1dc2",
   "metadata": {},
   "outputs": [],
   "source": [
    "from haystack.utils import convert_files_to_docs\n",
    "from haystack.nodes import PreProcessor\n",
    "from haystack.document_stores import OpenSearchDocumentStore\n",
    "from haystack.nodes import EmbeddingRetriever, PromptNode, PromptTemplate, AnswerParser\n",
    "import os"
   ]
  },
  {
   "cell_type": "code",
   "execution_count": 8,
   "id": "1d1b3e96-a666-4c35-8549-64e7a5f0820d",
   "metadata": {},
   "outputs": [],
   "source": [
    "MDDEL = \"gpt-4-1106-preview\"\n",
    "def get_prompt_node():\n",
    "    return PromptNode(MDDEL, api_key=os.environ['OPENAI_API_KEY'])"
   ]
  },
  {
   "cell_type": "code",
   "execution_count": 9,
   "id": "91d7ddee-7236-4dea-80a4-9ba795c5a896",
   "metadata": {},
   "outputs": [],
   "source": [
    "sample_input = \"A very short title less than 10 words describing the topic of the document. The short title does not need to be a full sentence but rather full of informative words.\"\n",
    "prompt = '''\n",
    "    Synthesize a title from the context provided below. It will be a title for the first slide\n",
    "    of a course powerpoint. %s.\n",
    "''' % sample_input\n",
    "prompt_node = get_prompt_node()"
   ]
  },
  {
   "cell_type": "code",
   "execution_count": 10,
   "id": "39852828-b54f-48e1-85e0-a762dee30231",
   "metadata": {},
   "outputs": [],
   "source": [
    "result = prompt_node(prompt)"
   ]
  },
  {
   "cell_type": "code",
   "execution_count": 11,
   "id": "fa1a66ab-9e33-48d0-9031-efc9f19f9064",
   "metadata": {},
   "outputs": [
    {
     "data": {
      "text/plain": [
       "['\"Introduction to Quantum Computing Fundamentals\"']"
      ]
     },
     "execution_count": 11,
     "metadata": {},
     "output_type": "execute_result"
    }
   ],
   "source": [
    "result"
   ]
  }
 ],
 "metadata": {
  "kernelspec": {
   "display_name": "investai",
   "language": "python",
   "name": "investai"
  },
  "language_info": {
   "codemirror_mode": {
    "name": "ipython",
    "version": 3
   },
   "file_extension": ".py",
   "mimetype": "text/x-python",
   "name": "python",
   "nbconvert_exporter": "python",
   "pygments_lexer": "ipython3",
   "version": "3.11.7"
  }
 },
 "nbformat": 4,
 "nbformat_minor": 5
}
